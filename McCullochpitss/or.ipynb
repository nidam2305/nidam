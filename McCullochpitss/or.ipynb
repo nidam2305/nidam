{
  "nbformat": 4,
  "nbformat_minor": 0,
  "metadata": {
    "colab": {
      "provenance": []
    },
    "kernelspec": {
      "name": "python3",
      "display_name": "Python 3"
    },
    "language_info": {
      "name": "python"
    }
  },
  "cells": [
    {
      "cell_type": "code",
      "execution_count": 1,
      "metadata": {
        "id": "G63uDxUx8KHJ"
      },
      "outputs": [],
      "source": [
        "# ejemplo con or\n",
        "import numpy as np\n",
        "# comenzamos a definir cuales seran nuestras entradas\n",
        "X = np.array([\n",
        "    [0, 0],\n",
        "    [0, 1],\n",
        "    [1, 0],\n",
        "    [1, 1]\n",
        "])\n",
        "#ahora definimos en esta parte las salidas es decir\n",
        "#lo que queremos que aparezca al imprimir en pantalla\n",
        "W = [2, 2] # pesos para hacer el calculo\n",
        "umbral = 3\n",
        "# para activar la neurona usamos este umbral\n"
      ]
    },
    {
      "cell_type": "code",
      "source": [
        "class McCullochPitts:\n",
        "    def __init__(self, weigths, umbral):\n",
        "        self.weigths = weigths\n",
        "        self.umbral = umbral\n",
        "        # tiene la faculidad de accerder a las variables que dimos\n",
        "       # le estamos dando inicio al objeto creado\n",
        "       #le dice al peso y al umbral que deben hacer calculos\n",
        "    def predict(self, X):\n",
        "      predictions = []\n",
        "      for i in range(X.shape[0]):\n",
        "          weighted_sum = np.dot(self.weigths,X[i])\n",
        "          print(f\"Input: {X[i]}, Weighted Sum: {weighted_sum}\")\n",
        "          if weighted_sum >= self.umbral:\n",
        "              predictions.append(1)\n",
        "          else:\n",
        "              predictions.append(0)\n",
        "      return predictions\n",
        "        # en esta codigo vamos a tomar las entradas que definimos\n",
        "        # y con predictions calculara la salida\n",
        "        # cpon for se hara el blucle para que pase por todas las filas que estan en listas\n",
        "        # va usar los pesos es decir va a usar la operacion para queaparezca el resultado de la sumna\n",
        ""
      ],
      "metadata": {
        "id": "SgmLpIlA-ifo"
      },
      "execution_count": 4,
      "outputs": []
    },
    {
      "cell_type": "code",
      "source": [
        "mpc = McCullochPitts(W, umbral)\n",
        "predictions = mpc.predict(X)\n",
        "print(\"Predictions:\", predictions)\n",
        "# en este parte lo que logramos es la suma de los pesos con el umbral y obtenemos laa salidas que definimos en la parte de arriba"
      ],
      "metadata": {
        "colab": {
          "base_uri": "https://localhost:8080/"
        },
        "id": "5RcroRu9CMEA",
        "outputId": "4e9e3a8b-b8ee-4240-c3f8-b0b367e88ba5"
      },
      "execution_count": 5,
      "outputs": [
        {
          "output_type": "stream",
          "name": "stdout",
          "text": [
            "Input: [0 0], Weighted Sum: 0\n",
            "Input: [0 1], Weighted Sum: 2\n",
            "Input: [1 0], Weighted Sum: 2\n",
            "Input: [1 1], Weighted Sum: 4\n",
            "Predictions: [0, 0, 0, 1]\n"
          ]
        }
      ]
    }
  ]
}
