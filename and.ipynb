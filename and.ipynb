{
  "nbformat": 4,
  "nbformat_minor": 0,
  "metadata": {
    "colab": {
      "provenance": []
    },
    "kernelspec": {
      "name": "python3",
      "display_name": "Python 3"
    },
    "language_info": {
      "name": "python"
    }
  },
  "cells": [
    {
      "cell_type": "code",
      "execution_count": 13,
      "metadata": {
        "id": "aW6VU_l-eYWm"
      },
      "outputs": [],
      "source": [
        "# ejemplo con and\n",
        "import numpy as np\n",
        "# entradas\n",
        "X = np.array([\n",
        "    [0, 1],\n",
        "    [0, 1],\n",
        "    [1, 0],\n",
        "    [1, 1]\n",
        "\n",
        "])\n",
        "# salidas\n",
        "\n",
        "Y = np.array([0, 0, 0, 1])\n",
        "# pesos\n",
        "W = [1, 1]\n",
        "# umbral\n",
        "umbral = 2"
      ]
    },
    {
      "cell_type": "code",
      "source": [
        "class McCullochPitts:\n",
        "    def __init__(self, weights, umbral):\n",
        "      # en init\n",
        "        self.weights = weights\n",
        "        self.umbral = umbral\n",
        "\n",
        "    def predict(self, X):\n",
        "\n",
        "        predictions =[]\n",
        "        # se guardaron las salidas es decir \"Y\"\n",
        "        for i in range(X.shape[0]):\n",
        "            # aqui entra la formula de la suma para calcular los pesos\n",
        "            # \"w1*X1 + W2X2\"\n",
        "            weighted_sum = np.dot(self.weights,X[i])\n",
        "            # manda llamar las entradas que pusimos y le agregamos la formula de la suma\n",
        "            print(f\"Input: {X[i]}, weighted Sum: {weighted_sum}\")\n",
        "            # agregamos el umbral para ver si si activa a la neurona\n",
        "            if weighted_sum >= self.umbral:\n",
        "                predictions.append(1)\n",
        "            else:\n",
        "                predictions.append(0)\n",
        "        return predictions\n",
        ""
      ],
      "metadata": {
        "id": "NedG_OrUg51U"
      },
      "execution_count": 15,
      "outputs": []
    },
    {
      "cell_type": "code",
      "source": [
        "mpc = McCullochPitts(W, umbral)\n",
        "predictions = mpc.predict(X)\n",
        "# con el print mostramos el resultado final donde veremos la activcacion de las neuronas\n",
        "print(\"Predictions:\" , predictions)"
      ],
      "metadata": {
        "colab": {
          "base_uri": "https://localhost:8080/"
        },
        "id": "MQ8-2567kh1a",
        "outputId": "a1515699-3d0b-44e4-c45a-86ce5fc24212"
      },
      "execution_count": 16,
      "outputs": [
        {
          "output_type": "stream",
          "name": "stdout",
          "text": [
            "Input: [0 1], weighted Sum: 1\n",
            "Input: [0 1], weighted Sum: 1\n",
            "Input: [1 0], weighted Sum: 1\n",
            "Input: [1 1], weighted Sum: 2\n",
            "Predictions: [0, 0, 0, 1]\n"
          ]
        }
      ]
    }
  ]
}