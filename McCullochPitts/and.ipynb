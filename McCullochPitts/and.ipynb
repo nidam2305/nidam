{
  "nbformat": 4,
  "nbformat_minor": 0,
  "metadata": {
    "colab": {
      "provenance": []
    },
    "kernelspec": {
      "name": "python3",
      "display_name": "Python 3"
    },
    "language_info": {
      "name": "python"
    }
  },
  "cells": [
    {
      "cell_type": "code",
      "execution_count": 17,
      "metadata": {
        "id": "aW6VU_l-eYWm"
      },
      "outputs": [],
      "source": [
        "# ejemplo con and\n",
        "import numpy as np\n",
        "# entradas que representa todas las entradas posibles de nuestro mnodelo\n",
        "X = np.array([\n",
        "    [0, 1],\n",
        "    [0, 1],\n",
        "    [1, 0],\n",
        "    [1, 1]\n",
        "\n",
        "])\n",
        "# salidas en este caso son todos los resultados de las combinaciones de las X\n",
        "\n",
        "Y = np.array([0, 0, 0, 1])\n",
        "# pesos\n",
        "W = [1, 1]\n",
        "# umbral\n",
        "umbral = 2\n",
        "# es decir cuando sean las entradas X deberan ser las salidas que salen en Y"
      ]
    },
    {
      "cell_type": "code",
      "source": [
        "class McCullochPitts:\n",
        "    def __init__(self, weights, umbral):\n",
        "  # en esta parte estamnos formando la clase y sus atributos  para darle inicio a la neurona\n",
        "        self.weights = weights\n",
        "        self.umbral = umbral\n",
        "\n",
        "    def predict(self, X):\n",
        "      # aqui esta comenzando la prediciion de cada entrada definida\n",
        "        predictions =[]\n",
        "        # se guardaron las salidas es decir \"Y\"\n",
        "        for i in range(X.shape[0]):\n",
        "            # inicia el bucle que va a recorrer a cada fila osea las entradas\n",
        "            # aqui entra la formula de la suma para calcular los pesos\n",
        "            # \"w1*X1 + W2X2\"\n",
        "            weighted_sum = np.dot(self.weights,X[i])\n",
        "            # manda llamar las entradas que pusimos y le agregamos la formula de la suma\n",
        "            print(f\"Input: {X[i]}, weighted Sum: {weighted_sum}\")\n",
        "            # agregamos el umbral para ver si si activa a la neurona\n",
        "            if weighted_sum >= self.umbral:\n",
        "                predictions.append(1) # aq  ui podremos saber la decision final es decir si es la salida correcta o no\n",
        "            else:\n",
        "                predictions.append(0)\n",
        "        return predictions\n",
        ""
      ],
      "metadata": {
        "id": "NedG_OrUg51U"
      },
      "execution_count": 18,
      "outputs": []
    },
    {
      "cell_type": "code",
      "source": [
        "mpc = McCullochPitts(W, umbral)\n",
        "# en esta parte deberia de aparecer AND es decir lo que le pedimos hacer a los pesos y el umbral\n",
        "predictions = mpc.predict(X)\n",
        "# se pasa por cada una de las filas de X buscando el resultado final\n",
        "# con el print mostramos el resultado final donde veremos la activcacion de las neuronas\n",
        "print(\"Predictions:\" , predictions)"
      ],
      "metadata": {
        "colab": {
          "base_uri": "https://localhost:8080/"
        },
        "id": "MQ8-2567kh1a",
        "outputId": "20fc319f-c37c-4e1d-d8d6-b94edfadeb07"
      },
      "execution_count": 19,
      "outputs": [
        {
          "output_type": "stream",
          "name": "stdout",
          "text": [
            "Input: [0 1], weighted Sum: 1\n",
            "Input: [0 1], weighted Sum: 1\n",
            "Input: [1 0], weighted Sum: 1\n",
            "Input: [1 1], weighted Sum: 2\n",
            "Predictions: [0, 0, 0, 1]\n"
          ]
        }
      ]
    }
  ]
}
