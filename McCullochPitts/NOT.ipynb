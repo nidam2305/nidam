{
  "nbformat": 4,
  "nbformat_minor": 0,
  "metadata": {
    "colab": {
      "provenance": []
    },
    "kernelspec": {
      "name": "python3",
      "display_name": "Python 3"
    },
    "language_info": {
      "name": "python"
    }
  },
  "cells": [
    {
      "cell_type": "code",
      "execution_count": 13,
      "metadata": {
        "id": "0o89ziN6JSty"
      },
      "outputs": [],
      "source": [
        "import numpy as np\n",
        "\n",
        "# Entradas para la neurona (Solo una entrada)\n",
        "X = np.array([\n",
        "    [0],  # Entrada 0\n",
        "    [1]   # Entrada 1\n",
        "])\n",
        "\n",
        "# Salidas esperadas (Tabla de Verdad NOT: invierte la entrada)\n",
        "Y = np.array([1, 0])\n",
        "\n",
        "# Pesos para la Ãºnica entrada: Un peso negativo\n",
        "W = [-1]\n",
        "\n",
        "# Umbral: Un umbral negativo o cero para que se active solo con la entrada 0\n",
        "umbral = 0\n",
        "\n",
        "\n",
        "\n"
      ]
    },
    {
      "cell_type": "code",
      "source": [
        "class McCullochPitts:\n",
        "\n",
        "    def __init__(self, weights, umbral):\n",
        "        \"\"\"\n",
        "        Constructor de la neurona MCP.\n",
        "        \"\"\"\n",
        "        self.weights = weights\n",
        "        self.umbral = umbral\n",
        "\n",
        "    def predict(self, X):\n",
        "        \"\"\"\n",
        "        Calcula la salida de la neurona para cada fila de entradas X.\n",
        "        \"\"\"\n",
        "        predictions = []\n",
        "        for i in range(X.shape[0]):\n",
        "            # Calculamos la suma ponderada: w1*x1\n",
        "            # Importante: X[i] es una lista\n",
        "            weighted_sum = np.dot(self.weights, X[i].flatten())\n",
        "\n",
        "            # Mostramos en consola la entrada y la suma ponderada\n",
        "            print(f\"Input: {X[i][0]}, Weighted Sum: {weighted_sum}\")\n",
        "\n",
        "            # ComparaciÃ³n con el umbral (funciÃ³n de activaciÃ³n)\n",
        "            if weighted_sum >= self.umbral:\n",
        "                predictions.append(1)\n",
        "            else:\n",
        "                predictions.append(0)\n",
        "        return predictions"
      ],
      "metadata": {
        "id": "PM2tIm9ML9qW"
      },
      "execution_count": 17,
      "outputs": []
    },
    {
      "cell_type": "code",
      "source": [
        "# Instanciamos la clase McCullochPitts\n",
        "mcp = McCullochPitts(W, umbral)\n",
        "# Calculamos las predicciones\n",
        "predictions = mcp.predict(X)\n",
        "# Mostramos el resultado final\n",
        "print(\"Predictions (NOT):\", predictions)"
      ],
      "metadata": {
        "colab": {
          "base_uri": "https://localhost:8080/"
        },
        "id": "qK6yB0TjKXUh",
        "outputId": "5d8a7f20-568a-4e44-87cf-3dc87266f6cf"
      },
      "execution_count": 18,
      "outputs": [
        {
          "output_type": "stream",
          "name": "stdout",
          "text": [
            "Input: 0, Weighted Sum: 0\n",
            "Input: 1, Weighted Sum: -1\n",
            "Predictions (NOT): [1, 0]\n"
          ]
        }
      ]
    }
  ]
}
